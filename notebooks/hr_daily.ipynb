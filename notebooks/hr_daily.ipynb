{
 "cells": [
  {
   "cell_type": "code",
   "execution_count": null,
   "id": "b8aada92",
   "metadata": {},
   "outputs": [],
   "source": [
    "%matplotlib inline\n",
    "import matplotlib.pyplot as plt\n",
    "import datetime\n",
    "from IPython.display import display, Markdown\n",
    "import snakemd\n",
    "import pandas as pd\n",
    "\n",
    "from garmindb import ConfigManager, Graph\n",
    "from garmindb.garmindb import GarminSummaryDb, DaysSummary, MonitoringDb, MonitoringHeartRate\n",
    "from garmindb.summarydb import DaysSummary, WeeksSummary, MonthsSummary, SummaryDb\n",
    "\n",
    "from jupyter_funcs import format_number"
   ]
  },
  {
   "cell_type": "markdown",
   "id": "4ab64486",
   "metadata": {},
   "source": [
    "# Plots how RHR changes over the years"
   ]
  },
  {
   "cell_type": "code",
   "execution_count": null,
   "id": "ad0ef659",
   "metadata": {},
   "outputs": [],
   "source": [
    "period = ConfigManager.graphs_activity_config(\"hr\", 'days')"
   ]
  },
  {
   "cell_type": "code",
   "execution_count": null,
   "id": "022d080b",
   "metadata": {},
   "outputs": [],
   "source": [
    "start_ts = datetime.datetime.combine(datetime.date(year=2017, month=1, day=1), datetime.datetime.min.time())\n",
    "end_ts = datetime.datetime.combine(datetime.date.today(), datetime.datetime.max.time())\n",
    "\n",
    "db_params = ConfigManager.get_db_params()\n",
    "sum_db = SummaryDb(db_params, False)\n",
    "data = DaysSummary.get_for_period(sum_db, start_ts, end_ts, DaysSummary)\n",
    "time = [entry.day for entry in data]\n",
    "hr_avg = [entry.hr_avg for entry in data]\n",
    "hr_min = [entry.hr_min for entry in data]\n",
    "hr_max = [entry.hr_max for entry in data]\n",
    "rhr_avg = [entry.rhr_avg for entry in data]\n",
    "rhr_min = [entry.rhr_min for entry in data]\n",
    "rhr_max = [entry.rhr_max for entry in data]\n",
    "inactive_hr_avg = [entry.inactive_hr_avg for entry in data]\n",
    "inactive_hr_min = [entry.inactive_hr_min for entry in data]\n",
    "inactive_hr_max = [entry.inactive_hr_max for entry in data]\n",
    "\n",
    "hr_df = pd.DataFrame([time, hr_avg, hr_min, hr_max, rhr_avg, rhr_min, rhr_max,\n",
    "                      inactive_hr_avg, inactive_hr_min, inactive_hr_max]).T\n",
    "hr_df.columns = [\"Date\", \"hr_avg\", \"hr_min\", \"hr_max\", \"rhr_avg\", \"rhr_min\", \"rhr_max\",\n",
    "                 \"inactive_hr_avg\", \"inactive_hr_min\", \"inactive_hr_max\"]\n",
    "hr_df"
   ]
  },
  {
   "cell_type": "code",
   "execution_count": null,
   "id": "11528027",
   "metadata": {},
   "outputs": [],
   "source": [
    "from operator    import itemgetter\n",
    "from collections import namedtuple\n",
    "\n",
    "def smooth(time, data, alpha=1, today=None):\n",
    "    \"\"\"Perform exponential smoothing with factor `alpha`.\n",
    "\n",
    "    Time period is a day.\n",
    "    Each time period the value of `hr` drops `alpha` times.\n",
    "    The most recent data is the most valuable one.\n",
    "    \"\"\"\n",
    "    assert 0 < alpha <= 1\n",
    "\n",
    "    if alpha == 1: # no smoothing\n",
    "        return sum(data) / len(data)\n",
    "\n",
    "    if today is None:\n",
    "        today = max(time)\n",
    "\n",
    "    numerator = sum(alpha**((today - date).days) * hr for date, hr in zip(time, data) if not (date > today))\n",
    "    denom = sum(alpha**((today - date).days) for date, hr in zip(time, data) if not (date > today))\n",
    "        \n",
    "    return numerator / denom"
   ]
  },
  {
   "cell_type": "code",
   "execution_count": null,
   "id": "ed0fe315",
   "metadata": {},
   "outputs": [],
   "source": [
    "fig = plt.figure(figsize=(12,8), dpi= 100, facecolor='w', edgecolor='k')\n",
    "\n",
    "alpha = 0.95\n",
    "\n",
    "color = ['r', 'g', 'b']\n",
    "\n",
    "columns = [\"hr_avg\", \"rhr_avg\", \"inactive_hr_avg\"]\n",
    "\n",
    "for col in columns:\n",
    "    _df = hr_df[[\"Date\", col, col.replace(\"avg\", \"min\"), col.replace(\"avg\", \"max\")]].dropna()\n",
    "    smoothed_hr = [smooth(_df.Date,  _df[col], alpha=alpha, today=date) for date in _df.Date]\n",
    "    smoothed_hr_max = [smooth(_df.Date,  _df[col.replace(\"avg\", \"min\")], alpha=alpha, today=date) for date in _df.Date]\n",
    "    smoothed_hr_min = [smooth(_df.Date,  _df[col.replace(\"avg\", \"max\")], alpha=alpha, today=date) for date in _df.Date]\n",
    "\n",
    "    plt.plot(list(_df.Date), smoothed_hr, 'o', ms=3.0, label=col)\n",
    "    plt.fill_between(list(_df.Date), smoothed_hr_min, smoothed_hr_max, alpha=0.2)\n",
    "\n",
    "plt.grid(visible=True, which='major', color='#666666', linestyle='-')\n",
    "plt.grid(visible=True, which='minor', color='#999999', linestyle='-', alpha=0.2)\n",
    "\n",
    "plt.legend()\n",
    "\n",
    "ax = plt.gca()\n",
    "legend = ax.legend(frameon=True)\n",
    "ax.legend(markerscale=2)\n",
    "\n",
    "years = plt.matplotlib.dates.YearLocator()\n",
    "months = plt.matplotlib.dates.MonthLocator()\n",
    "# yearsFmt = plt.matplotlib.dates.DateFormatter('%Y')\n",
    "ax.xaxis.set_major_locator(years)\n",
    "ax.xaxis.set_minor_locator(months)\n",
    "# ax.xaxis.set_major_formatter(yearsFmt)\n",
    "\n",
    "plt.show()"
   ]
  },
  {
   "cell_type": "code",
   "execution_count": null,
   "id": "904f585c",
   "metadata": {},
   "outputs": [],
   "source": [
    "# All HR data\n",
    "# db_params = ConfigManager.get_db_params()\n",
    "# mon_db = MonitoringDb(db_params, False)\n",
    "# start_ts = datetime.datetime.combine(datetime.date(year=2021, month=1, day=1), datetime.datetime.min.time())\n",
    "# end_ts = datetime.datetime.combine(datetime.date.today(), datetime.datetime.max.time())\n",
    "# hr_data_full = MonitoringHeartRate.get_for_period(mon_db, start_ts, end_ts, MonitoringHeartRate)\n",
    "# hr_data_full"
   ]
  },
  {
   "cell_type": "code",
   "execution_count": null,
   "id": "25936844",
   "metadata": {},
   "outputs": [],
   "source": [
    "# All Monioring data\n",
    "# from garmindb.garmindb import MonitoringInfo, MonitoringIntensity, Monitoring\n",
    "\n",
    "# db_params = ConfigManager.get_db_params()\n",
    "# mon_db = MonitoringDb(db_params, False)\n",
    "# start_ts = datetime.datetime.combine(datetime.date(year=2021, month=1, day=1), datetime.datetime.min.time())\n",
    "# end_ts = datetime.datetime.combine(datetime.date.today(), datetime.datetime.max.time())\n",
    "# mon_data_full = Monitoring.get_for_period(mon_db, start_ts, end_ts, Monitoring)\n",
    "# mon_data_full"
   ]
  }
 ],
 "metadata": {
  "kernelspec": {
   "display_name": "Python 3 (ipykernel)",
   "language": "python",
   "name": "python3"
  },
  "language_info": {
   "codemirror_mode": {
    "name": "ipython",
    "version": 3
   },
   "file_extension": ".py",
   "mimetype": "text/x-python",
   "name": "python",
   "nbconvert_exporter": "python",
   "pygments_lexer": "ipython3",
   "version": "3.9.7"
  }
 },
 "nbformat": 4,
 "nbformat_minor": 5
}
