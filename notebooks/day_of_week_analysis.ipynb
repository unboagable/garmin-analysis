{
  "cells": [
    {
      "cell_type": "markdown",
      "metadata": {},
      "source": [
        "# Day of Week Analysis\n",
        "\n",
        "This notebook analyzes how various health metrics vary by day of the week.\n",
        "\n",
        "**Metrics analyzed:**\n",
        "- Sleep Score\n",
        "- Body Battery (max and min)\n",
        "- Water Intake\n",
        "\n",
        "**Analysis includes:**\n",
        "- Average values by day of week (Sunday-first ordering)\n",
        "- Statistical summaries (mean, median, standard deviation)\n",
        "- Visualizations showing patterns across the week\n",
        "- Identification of best and worst days for each metric\n"
      ]
    },
    {
      "cell_type": "code",
      "execution_count": null,
      "metadata": {},
      "outputs": [],
      "source": [
        "# Import required libraries\n",
        "%matplotlib inline\n",
        "import matplotlib.pyplot as plt\n",
        "import seaborn as sns\n",
        "import pandas as pd\n",
        "import logging\n",
        "from datetime import datetime\n",
        "\n",
        "# Import our analysis functions\n",
        "from garmin_analysis.features.day_of_week_analysis import (\n",
        "    calculate_day_of_week_averages,\n",
        "    plot_day_of_week_averages,\n",
        "    print_day_of_week_summary,\n",
        "    get_day_order\n",
        ")\n",
        "from garmin_analysis.utils.data_loading import load_master_dataframe\n",
        "\n",
        "# Set up logging\n",
        "logging.basicConfig(level=logging.INFO)\n",
        "logger = logging.getLogger(__name__)\n",
        "\n",
        "# Configure plot style\n",
        "plt.style.use('default')\n",
        "sns.set_palette(\"husl\")\n",
        "plt.rcParams['figure.figsize'] = (12, 6)\n",
        "plt.rcParams['font.size'] = 10\n"
      ]
    },
    {
      "cell_type": "markdown",
      "metadata": {},
      "source": [
        "## 1. Load Data\n",
        "\n",
        "Load the master daily summary data containing all health metrics.\n"
      ]
    },
    {
      "cell_type": "code",
      "execution_count": null,
      "metadata": {},
      "outputs": [],
      "source": [
        "# Load the master dataframe\n",
        "logger.info(\"Loading master daily summary data...\")\n",
        "df = load_master_dataframe()\n",
        "\n",
        "print(f\"✓ Loaded {len(df)} days of data\")\n",
        "print(f\"Date range: {df['day'].min()} to {df['day'].max()}\")\n",
        "print(f\"\\nDataFrame shape: {df.shape}\")\n",
        "print(f\"\\nColumns available: {', '.join(df.columns.tolist())}\")\n"
      ]
    },
    {
      "cell_type": "markdown",
      "metadata": {},
      "source": [
        "## 2. Calculate Day-of-Week Averages\n",
        "\n",
        "Calculate average values for each metric by day of week.\n"
      ]
    },
    {
      "cell_type": "code",
      "execution_count": null,
      "metadata": {},
      "outputs": [],
      "source": [
        "# Calculate day-of-week averages\n",
        "day_averages = calculate_day_of_week_averages(df)\n",
        "\n",
        "print(f\"✓ Calculated averages for {day_averages['metric'].nunique()} metrics\")\n",
        "print(f\"\\nMetrics analyzed: {', '.join(day_averages['metric'].unique())}\")\n",
        "\n",
        "# Display the data\n",
        "day_averages\n"
      ]
    },
    {
      "cell_type": "markdown",
      "metadata": {},
      "source": [
        "## 3. Summary Statistics\n",
        "\n",
        "View detailed statistics for each metric by day of week.\n"
      ]
    },
    {
      "cell_type": "code",
      "execution_count": null,
      "metadata": {},
      "outputs": [],
      "source": [
        "# Print detailed summary\n",
        "print_day_of_week_summary(df)\n"
      ]
    },
    {
      "cell_type": "markdown",
      "metadata": {},
      "source": [
        "## 4. Visualizations\n",
        "\n",
        "### 4.1 Individual Metric Plots\n"
      ]
    },
    {
      "cell_type": "code",
      "execution_count": null,
      "metadata": {},
      "outputs": [],
      "source": [
        "# Create visualizations for each metric\n",
        "day_order = get_day_order()\n",
        "metrics = day_averages['metric'].unique()\n",
        "\n",
        "for metric in metrics:\n",
        "    metric_data = day_averages[day_averages['metric'] == metric].copy()\n",
        "    \n",
        "    fig, (ax1, ax2) = plt.subplots(1, 2, figsize=(15, 5))\n",
        "    \n",
        "    # Plot 1: Bar chart with values\n",
        "    bars = ax1.bar(metric_data['day_of_week'], metric_data['mean'], \n",
        "                   color=sns.color_palette(\"husl\", len(metric_data)))\n",
        "    ax1.set_title(f'{metric.replace(\"_\", \" \").title()} - Daily Averages', fontsize=14, fontweight='bold')\n",
        "    ax1.set_xlabel('Day of Week', fontsize=12)\n",
        "    ax1.set_ylabel('Average Value', fontsize=12)\n",
        "    ax1.tick_params(axis='x', rotation=45)\n",
        "    ax1.grid(axis='y', alpha=0.3)\n",
        "    \n",
        "    # Add value labels\n",
        "    for bar, value in zip(bars, metric_data['mean']):\n",
        "        height = bar.get_height()\n",
        "        ax1.text(bar.get_x() + bar.get_width()/2., height + height*0.01,\n",
        "                f'{value:.1f}', ha='center', va='bottom', fontweight='bold')\n",
        "    \n",
        "    # Plot 2: Error bars (mean ± std)\n",
        "    ax2.errorbar(range(len(metric_data)), metric_data['mean'], \n",
        "                yerr=metric_data['std'], fmt='o', markersize=8, capsize=5, capthick=2, linewidth=2)\n",
        "    ax2.set_xticks(range(len(metric_data)))\n",
        "    ax2.set_xticklabels(metric_data['day_of_week'], rotation=45)\n",
        "    ax2.set_title(f'{metric.replace(\"_\", \" \").title()} - Mean ± Std Dev', fontsize=14, fontweight='bold')\n",
        "    ax2.set_xlabel('Day of Week', fontsize=12)\n",
        "    ax2.set_ylabel('Value', fontsize=12)\n",
        "    ax2.grid(True, alpha=0.3)\n",
        "    \n",
        "    plt.tight_layout()\n",
        "    plt.show()\n",
        "    \n",
        "    # Print best and worst days\n",
        "    best_day = metric_data.loc[metric_data['mean'].idxmax()]\n",
        "    worst_day = metric_data.loc[metric_data['mean'].idxmin()]\n",
        "    \n",
        "    print(f\"\\n{metric.replace('_', ' ').title()}:\")\n",
        "    print(f\"  ✓ Best day:  {best_day['day_of_week']} ({best_day['mean']:.1f})\")\n",
        "    print(f\"  ✗ Worst day: {worst_day['day_of_week']} ({worst_day['mean']:.1f})\")\n",
        "    print(f\"  Δ Difference: {best_day['mean'] - worst_day['mean']:.1f}\")\n",
        "    print(\"-\" * 50)\n"
      ]
    },
    {
      "cell_type": "markdown",
      "metadata": {},
      "source": [
        "### 4.2 Combined Comparison\n"
      ]
    },
    {
      "cell_type": "code",
      "execution_count": null,
      "metadata": {},
      "outputs": [],
      "source": [
        "# Create combined plot showing all metrics\n",
        "fig, ax = plt.subplots(figsize=(14, 8))\n",
        "\n",
        "# Pivot data for grouped bar chart\n",
        "pivot_data = day_averages.pivot(index='day_of_week', columns='metric', values='mean')\n",
        "\n",
        "# Create grouped bar chart\n",
        "pivot_data.plot(kind='bar', ax=ax, width=0.8, colormap='viridis')\n",
        "ax.set_title('Day-of-Week Averages: All Metrics Compared', fontsize=16, fontweight='bold', pad=20)\n",
        "ax.set_xlabel('Day of Week', fontsize=13)\n",
        "ax.set_ylabel('Average Value', fontsize=13)\n",
        "ax.legend(title='Metrics', title_fontsize=12, fontsize=11, bbox_to_anchor=(1.05, 1), loc='upper left')\n",
        "ax.tick_params(axis='x', rotation=45)\n",
        "ax.grid(True, alpha=0.3, axis='y')\n",
        "\n",
        "plt.tight_layout()\n",
        "plt.show()\n"
      ]
    },
    {
      "cell_type": "markdown",
      "metadata": {},
      "source": [
        "### 4.3 Normalized Comparison\n",
        "\n",
        "Scale all metrics to 0-100 range for easier comparison across different units.\n"
      ]
    },
    {
      "cell_type": "code",
      "execution_count": null,
      "metadata": {},
      "outputs": [],
      "source": [
        "# Normalize each metric to 0-100 scale for comparison\n",
        "normalized_data = day_averages.copy()\n",
        "for metric in normalized_data['metric'].unique():\n",
        "    mask = normalized_data['metric'] == metric\n",
        "    values = normalized_data.loc[mask, 'mean']\n",
        "    min_val = values.min()\n",
        "    max_val = values.max()\n",
        "    if max_val > min_val:\n",
        "        normalized_data.loc[mask, 'normalized'] = 100 * (values - min_val) / (max_val - min_val)\n",
        "    else:\n",
        "        normalized_data.loc[mask, 'normalized'] = 50\n",
        "\n",
        "# Create normalized comparison plot\n",
        "fig, ax = plt.subplots(figsize=(14, 8))\n",
        "\n",
        "pivot_normalized = normalized_data.pivot(index='day_of_week', columns='metric', values='normalized')\n",
        "\n",
        "# Line plot\n",
        "for column in pivot_normalized.columns:\n",
        "    ax.plot(pivot_normalized.index, pivot_normalized[column], \n",
        "           marker='o', linewidth=2, markersize=8, label=column.replace('_', ' ').title())\n",
        "\n",
        "ax.set_title('Normalized Day-of-Week Patterns (0-100 Scale)', fontsize=16, fontweight='bold', pad=20)\n",
        "ax.set_xlabel('Day of Week', fontsize=13)\n",
        "ax.set_ylabel('Normalized Value (0-100)', fontsize=13)\n",
        "ax.legend(title='Metrics', title_fontsize=12, fontsize=11, bbox_to_anchor=(1.05, 1), loc='upper left')\n",
        "ax.tick_params(axis='x', rotation=45)\n",
        "ax.grid(True, alpha=0.3)\n",
        "ax.set_ylim(-5, 105)\n",
        "\n",
        "plt.tight_layout()\n",
        "plt.show()\n"
      ]
    },
    {
      "cell_type": "markdown",
      "metadata": {},
      "source": [
        "## 5. Key Insights\n",
        "\n",
        "Generate a summary of key patterns and insights.\n"
      ]
    },
    {
      "cell_type": "code",
      "execution_count": null,
      "metadata": {},
      "outputs": [],
      "source": [
        "print(\"=\"*70)\n",
        "print(\"KEY INSIGHTS: DAY-OF-WEEK PATTERNS\")\n",
        "print(\"=\"*70)\n",
        "\n",
        "for metric in day_averages['metric'].unique():\n",
        "    metric_data = day_averages[day_averages['metric'] == metric]\n",
        "    \n",
        "    best_day = metric_data.loc[metric_data['mean'].idxmax()]\n",
        "    worst_day = metric_data.loc[metric_data['mean'].idxmin()]\n",
        "    overall_avg = metric_data['mean'].mean()\n",
        "    overall_std = metric_data['std'].mean()\n",
        "    \n",
        "    print(f\"\\n📊 {metric.replace('_', ' ').title()}:\")\n",
        "    print(f\"   Overall Average: {overall_avg:.1f} ± {overall_std:.1f}\")\n",
        "    print(f\"   Best Performance: {best_day['day_of_week']} ({best_day['mean']:.1f})\")\n",
        "    print(f\"   Worst Performance: {worst_day['day_of_week']} ({worst_day['mean']:.1f})\")\n",
        "    print(f\"   Range: {best_day['mean'] - worst_day['mean']:.1f}\")\n",
        "    \n",
        "    # Calculate coefficient of variation\n",
        "    cv = (metric_data['mean'].std() / metric_data['mean'].mean()) * 100\n",
        "    print(f\"   Day-to-day Variability: {cv:.1f}%\")\n",
        "    \n",
        "    # Find weekend vs weekday pattern\n",
        "    weekend_days = ['Saturday', 'Sunday']\n",
        "    weekend_avg = metric_data[metric_data['day_of_week'].isin(weekend_days)]['mean'].mean()\n",
        "    weekday_avg = metric_data[~metric_data['day_of_week'].isin(weekend_days)]['mean'].mean()\n",
        "    print(f\"   Weekend Average: {weekend_avg:.1f}\")\n",
        "    print(f\"   Weekday Average: {weekday_avg:.1f}\")\n",
        "    print(f\"   Weekend Effect: {((weekend_avg - weekday_avg) / weekday_avg * 100):+.1f}%\")\n",
        "\n",
        "print(\"\\n\" + \"=\"*70)\n"
      ]
    },
    {
      "cell_type": "markdown",
      "metadata": {},
      "source": [
        "## 6. Export Results\n",
        "\n",
        "Save the analysis results for future reference.\n"
      ]
    },
    {
      "cell_type": "code",
      "execution_count": null,
      "metadata": {},
      "outputs": [],
      "source": [
        "# Save results to CSV\n",
        "timestamp = datetime.now().strftime(\"%Y%m%d_%H%M%S\")\n",
        "output_file = f\"../reports/day_of_week_analysis_{timestamp}.csv\"\n",
        "\n",
        "day_averages.to_csv(output_file, index=False)\n",
        "print(f\"✓ Results saved to: {output_file}\")\n",
        "\n",
        "# Also create plot files\n",
        "plot_files = plot_day_of_week_averages(df, save_plots=True, show_plots=False)\n",
        "print(f\"\\n✓ Generated {len(plot_files)} visualization files:\")\n",
        "for metric, filepath in plot_files.items():\n",
        "    print(f\"  - {metric}: {filepath}\")\n"
      ]
    }
  ],
  "metadata": {
    "language_info": {
      "name": "python"
    }
  },
  "nbformat": 4,
  "nbformat_minor": 2
}
